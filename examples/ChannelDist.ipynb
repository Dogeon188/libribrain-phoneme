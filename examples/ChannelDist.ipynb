{
 "cells": [
  {
   "cell_type": "code",
   "execution_count": 1,
   "id": "68b14b31",
   "metadata": {},
   "outputs": [],
   "source": [
    "import os\n",
    "from pathlib import Path\n",
    "from pnpl.datasets.libribrain2025 import constants_utils\n",
    "\n",
    "constants_utils.set_remote_constants_url(\n",
    "    f\"{(Path(os.getcwd()) / 'constants.json').as_uri()}\")\n",
    "constants_utils.refresh_constants();"
   ]
  },
  {
   "cell_type": "markdown",
   "id": "d269540e",
   "metadata": {},
   "source": [
    "## Before Averaging"
   ]
  },
  {
   "cell_type": "code",
   "execution_count": null,
   "id": "2f92ec45",
   "metadata": {},
   "outputs": [],
   "source": [
    "from pnpl.datasets import LibriBrainPhoneme\n",
    "\n",
    "train_dataset = LibriBrainPhoneme(\n",
    "    data_path=\"./data/\",\n",
    "    tmin=0.0,\n",
    "    tmax=0.5,\n",
    "    standardize=True,\n",
    "    partition=\"train\",\n",
    ")\n",
    "validation_dataset = LibriBrainPhoneme(\n",
    "    data_path=\"./data/\",\n",
    "    tmin=0.0,\n",
    "    tmax=0.5,\n",
    "    standardize=True,\n",
    "    partition=\"validation\",\n",
    ")"
   ]
  },
  {
   "cell_type": "code",
   "execution_count": null,
   "id": "79d07115",
   "metadata": {},
   "outputs": [],
   "source": [
    "import numpy as np\n",
    "\n",
    "\n",
    "mean_diff = np.abs(train_dataset.channel_means - validation_dataset.channel_means)\n",
    "std_diff = np.abs(train_dataset.channel_stds - validation_dataset.channel_stds)"
   ]
  },
  {
   "cell_type": "code",
   "execution_count": null,
   "id": "81e09923",
   "metadata": {},
   "outputs": [],
   "source": [
    "mean_diff.mean().item(), mean_diff.std().item()"
   ]
  },
  {
   "cell_type": "code",
   "execution_count": null,
   "id": "27d5066b",
   "metadata": {},
   "outputs": [],
   "source": [
    "std_diff.mean().item(), std_diff.std().item()"
   ]
  },
  {
   "cell_type": "markdown",
   "id": "e7b7e535",
   "metadata": {},
   "source": [
    "## After Averaging"
   ]
  },
  {
   "cell_type": "code",
   "execution_count": 15,
   "id": "b16a9a48",
   "metadata": {},
   "outputs": [],
   "source": [
    "from pathlib import Path\n",
    "from libribrain_experiments.grouped_dataset import MyGroupedDatasetV3\n",
    "from typing import Literal\n",
    "from pnpl.datasets import LibriBrainCompetitionHoldout, LibriBrainPhoneme\n",
    "\n",
    "split: Literal[\"train\", \"val\"] = \"val\"\n",
    "\n",
    "raw_train_dataset = LibriBrainPhoneme(\n",
    "    data_path=\"./data/\",\n",
    "    tmin=0.0,\n",
    "    tmax=0.5,\n",
    "    standardize=True,\n",
    "    partition=\"train\",\n",
    ")\n",
    "raw_validation_dataset = LibriBrainPhoneme(\n",
    "    data_path=\"./data/\",\n",
    "    tmin=0.0,\n",
    "    tmax=0.5,\n",
    "    standardize=True,\n",
    "    partition=\"validation\",\n",
    "    channel_means=raw_train_dataset.channel_means,\n",
    "    channel_stds=raw_train_dataset.channel_stds,\n",
    ")\n",
    "source_dataset = MyGroupedDatasetV3(\n",
    "    raw_train_dataset if split == \"train\" else raw_validation_dataset,\n",
    "    grouped_samples=100,\n",
    "    drop_remaining=False,\n",
    "    average_grouped_samples=True,\n",
    "    state_cache_path=Path(f\"./data_preprocessed/groupedv3/{split}_grouped_100.pt\"),\n",
    "    balance=True,\n",
    "    shuffle=True,\n",
    ")\n",
    "\n",
    "holdout_dataset = LibriBrainCompetitionHoldout(\n",
    "    # channel_means=raw_train_dataset.channel_means,\n",
    "    # channel_stds=raw_train_dataset.channel_stds,\n",
    "    data_path=\"./data/\",\n",
    "    task=\"phoneme\",\n",
    "    tmin=0.0,\n",
    "    tmax=0.5,\n",
    "    standardize=False, # already standardized\n",
    ")"
   ]
  },
  {
   "cell_type": "code",
   "execution_count": 19,
   "id": "d9a2b6a0",
   "metadata": {},
   "outputs": [
    {
     "name": "stdout",
     "output_type": "stream",
     "text": [
      "Raw train means: 1.072113e-15 ± 9.067206e-14\n",
      "Raw train stds: 7.629011e-11 ± 8.890892e-11\n"
     ]
    }
   ],
   "source": [
    "print(f\"Raw train means: {raw_train_dataset.channel_means.mean().item():.6e} ± {raw_train_dataset.channel_means.std().item():.6e}\")\n",
    "print(f\"Raw train stds: {raw_train_dataset.channel_stds.mean().item():.6e} ± {raw_train_dataset.channel_stds.std().item():.6e}\")"
   ]
  },
  {
   "cell_type": "code",
   "execution_count": null,
   "id": "c24f945d",
   "metadata": {},
   "outputs": [
    {
     "name": "stderr",
     "output_type": "stream",
     "text": [
      "100%|██████████| 43/43 [01:21<00:00,  1.89s/it]\n",
      "100%|██████████| 10/10 [00:00<00:00, 19.83it/s]\n"
     ]
    }
   ],
   "source": [
    "from tqdm import tqdm\n",
    "import numpy as np\n",
    "from torch.utils.data import DataLoader\n",
    "\n",
    "all_means = []\n",
    "all_stds = []\n",
    "\n",
    "source_loader = DataLoader(\n",
    "    source_dataset, batch_size=256, shuffle=False, num_workers=4)\n",
    "\n",
    "for sample, *_ in tqdm(source_loader):\n",
    "    arr = sample.numpy()\n",
    "    mean = arr.mean(axis=2)  # mean over time\n",
    "    std = arr.std(axis=2)    # std over time\n",
    "    all_means.extend(mean)\n",
    "    all_stds.extend(std)\n",
    "\n",
    "source_channel_means = np.mean(np.stack(all_means), axis=0)\n",
    "source_channel_stds = np.mean(np.stack(all_stds), axis=0)\n",
    "\n",
    "all_means = []\n",
    "all_stds = []\n",
    "\n",
    "holdout_loader = DataLoader(\n",
    "    holdout_dataset, batch_size=256, shuffle=False, num_workers=4)\n",
    "\n",
    "for sample in tqdm(holdout_loader):\n",
    "    arr = sample.numpy()\n",
    "    mean = arr.mean(axis=2)  # mean over time\n",
    "    std = arr.std(axis=2)    # std over time\n",
    "    all_means.extend(mean)\n",
    "    all_stds.extend(std)\n",
    "\n",
    "holdout_channel_means = np.mean(np.stack(all_means), axis=0)\n",
    "holdout_channel_stds = np.mean(np.stack(all_stds), axis=0)"
   ]
  },
  {
   "cell_type": "code",
   "execution_count": 7,
   "id": "d8ec944e",
   "metadata": {},
   "outputs": [],
   "source": [
    "import numpy as np\n",
    "\n",
    "\n",
    "mean_diff = np.abs(source_channel_means - holdout_channel_means)\n",
    "std_diff = np.abs(source_channel_stds - holdout_channel_stds)"
   ]
  },
  {
   "cell_type": "code",
   "execution_count": 13,
   "id": "dd78b956",
   "metadata": {},
   "outputs": [
    {
     "name": "stdout",
     "output_type": "stream",
     "text": [
      "Source means: -0.000416 ± 0.004037\n",
      "Source stds: 0.010629 ± 0.007592\n",
      "Holdout means: -0.002820 ± 0.041547\n",
      "Holdout stds: 0.499323 ± 0.205752\n"
     ]
    }
   ],
   "source": [
    "print(f\"Source means: {source_channel_means.mean().item():.6f} ± {source_channel_means.std().item():.6f}\")\n",
    "print(f\"Source stds: {source_channel_stds.mean().item():.6f} ± {source_channel_stds.std().item():.6f}\")\n",
    "print(f\"Holdout means: {holdout_channel_means.mean().item():.6f} ± {holdout_channel_means.std().item():.6f}\")\n",
    "print(f\"Holdout stds: {holdout_channel_stds.mean().item():.6f} ± {holdout_channel_stds.std().item():.6f}\")"
   ]
  },
  {
   "cell_type": "code",
   "execution_count": 11,
   "id": "d5130214",
   "metadata": {},
   "outputs": [
    {
     "name": "stdout",
     "output_type": "stream",
     "text": [
      "Mean diff: 0.037174 ± 0.015907\n",
      "Std diff: 0.488695 ± 0.204510\n"
     ]
    }
   ],
   "source": [
    "# mean_diff.mean().item(), mean_diff.std().item()\n",
    "print(f\"Mean diff: {mean_diff.mean().item():.6f} ± {mean_diff.std().item():.6f}\")\n",
    "print(f\"Std diff: {std_diff.mean().item():.6f} ± {std_diff.std().item():.6f}\")"
   ]
  }
 ],
 "metadata": {
  "kernelspec": {
   "display_name": "libribrain-phoneme (3.12.3)",
   "language": "python",
   "name": "python3"
  },
  "language_info": {
   "codemirror_mode": {
    "name": "ipython",
    "version": 3
   },
   "file_extension": ".py",
   "mimetype": "text/x-python",
   "name": "python",
   "nbconvert_exporter": "python",
   "pygments_lexer": "ipython3",
   "version": "3.12.3"
  }
 },
 "nbformat": 4,
 "nbformat_minor": 5
}
